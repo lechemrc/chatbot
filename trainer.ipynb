{
 "cells": [
  {
   "cell_type": "markdown",
   "metadata": {},
   "source": [
    "# Chatbot Trainer file"
   ]
  },
  {
   "cell_type": "markdown",
   "metadata": {},
   "source": [
    "Thank you to https://dzone.com/articles/python-chatbot-project-build-your-first-python-pro for the inspiration here. "
   ]
  },
  {
   "cell_type": "code",
   "execution_count": 6,
   "metadata": {
    "tags": []
   },
   "outputs": [
    {
     "output_type": "stream",
     "name": "stderr",
     "text": "[nltk_data] Downloading package wordnet to\n[nltk_data]     C:\\Users\\Rob\\AppData\\Roaming\\nltk_data...\n[nltk_data]   Unzipping corpora\\wordnet.zip.\n"
    }
   ],
   "source": [
    "# Important imports\n",
    "from keras.models import Sequential\n",
    "from keras.layers import Dense, Activation, Dropout\n",
    "from keras.optimizers import SGD\n",
    "from nltk.stem import WordNetLemmatizer \n",
    "import numpy as np\n",
    "import random\n",
    "import nltk\n",
    "import json\n",
    "import pickle\n",
    "\n",
    "# Download 'wordnet'\n",
    "nltk.download('wordnet')\n",
    "\n",
    "# Initializing Lemmatizer\n",
    "lemmatizer = WordNetLemmatizer()\n",
    "\n",
    "# Reading in intents.json file\n",
    "intents_file = open('intents.json').read()\n",
    "intents = json.loads(intents_file)"
   ]
  },
  {
   "cell_type": "code",
   "execution_count": 7,
   "metadata": {
    "tags": []
   },
   "outputs": [
    {
     "output_type": "stream",
     "name": "stdout",
     "text": "[(['Hi', 'there'], 'greeting'), (['How', 'are', 'you'], 'greeting'), (['Is', 'anyone', 'there', '?'], 'greeting'), (['Hey'], 'greeting'), (['Hola'], 'greeting'), (['Hello'], 'greeting'), (['Good', 'day'], 'greeting'), (['Bye'], 'goodbye'), (['See', 'you', 'later'], 'goodbye'), (['Goodbye'], 'goodbye'), (['Nice', 'chatting', 'to', 'you', ',', 'bye'], 'goodbye'), (['Till', 'next', 'time'], 'goodbye'), (['Thanks'], 'thanks'), (['Thank', 'you'], 'thanks'), (['That', \"'s\", 'helpful'], 'thanks'), (['Awesome', ',', 'thanks'], 'thanks'), (['Thanks', 'for', 'helping', 'me'], 'thanks'), (['How', 'you', 'could', 'help', 'me', '?'], 'options'), (['What', 'you', 'can', 'do', '?'], 'options'), (['What', 'help', 'you', 'provide', '?'], 'options'), (['How', 'you', 'can', 'be', 'helpful', '?'], 'options'), (['What', 'support', 'is', 'offered'], 'options'), (['How', 'to', 'check', 'Adverse', 'drug', 'reaction', '?'], 'adverse_drug'), (['Open', 'adverse', 'drugs', 'module'], 'adverse_drug'), (['Give', 'me', 'a', 'list', 'of', 'drugs', 'causing', 'adverse', 'behavior'], 'adverse_drug'), (['List', 'all', 'drugs', 'suitable', 'for', 'patient', 'with', 'adverse', 'reaction'], 'adverse_drug'), (['Which', 'drugs', 'dont', 'have', 'adverse', 'reaction', '?'], 'adverse_drug'), (['Open', 'blood', 'pressure', 'module'], 'blood_pressure'), (['Task', 'related', 'to', 'blood', 'pressure'], 'blood_pressure'), (['Blood', 'pressure', 'data', 'entry'], 'blood_pressure'), (['I', 'want', 'to', 'log', 'blood', 'pressure', 'results'], 'blood_pressure'), (['Blood', 'pressure', 'data', 'management'], 'blood_pressure'), (['I', 'want', 'to', 'search', 'for', 'blood', 'pressure', 'result', 'history'], 'blood_pressure_search'), (['Blood', 'pressure', 'for', 'patient'], 'blood_pressure_search'), (['Load', 'patient', 'blood', 'pressure', 'result'], 'blood_pressure_search'), (['Show', 'blood', 'pressure', 'results', 'for', 'patient'], 'blood_pressure_search'), (['Find', 'blood', 'pressure', 'results', 'by', 'ID'], 'blood_pressure_search'), (['Find', 'me', 'a', 'pharmacy'], 'pharmacy_search'), (['Find', 'pharmacy'], 'pharmacy_search'), (['List', 'of', 'pharmacies', 'nearby'], 'pharmacy_search'), (['Locate', 'pharmacy'], 'pharmacy_search'), (['Search', 'pharmacy'], 'pharmacy_search'), (['Lookup', 'for', 'hospital'], 'hospital_search'), (['Searching', 'for', 'hospital', 'to', 'transfer', 'patient'], 'hospital_search'), (['I', 'want', 'to', 'search', 'hospital', 'data'], 'hospital_search'), (['Hospital', 'lookup', 'for', 'patient'], 'hospital_search'), (['Looking', 'up', 'hospital', 'details'], 'hospital_search')]\n"
    }
   ],
   "source": [
    "words = []\n",
    "classes = []\n",
    "documents = []\n",
    "ignore = ['!', '?', ',', '.']\n",
    "\n",
    "for intent in intents['intents']:\n",
    "    for pattern in intent['patterns']:\n",
    "        # Tokenize each word\n",
    "        word = nltk.word_tokenize(pattern)\n",
    "        words.extend(word)\n",
    "\n",
    "        # Add documents in the corpus\n",
    "        documents.append((word, intent['tag']))\n",
    "\n",
    "        # Add to our classes list\n",
    "        if intent['tag'] not in classes:\n",
    "            classes.append(intent['tag'])\n",
    "\n",
    "print(documents)"
   ]
  },
  {
   "cell_type": "code",
   "execution_count": 8,
   "metadata": {
    "tags": []
   },
   "outputs": [
    {
     "output_type": "stream",
     "name": "stdout",
     "text": "47 documents\n9 classes ['adverse_drug', 'blood_pressure', 'blood_pressure_search', 'goodbye', 'greeting', 'hospital_search', 'options', 'pharmacy_search', 'thanks']\n87 unique lemmatized words [\"'s\", 'a', 'adverse', 'all', 'anyone', 'are', 'awesome', 'be', 'behavior', 'blood', 'by', 'bye', 'can', 'causing', 'chatting', 'check', 'could', 'data', 'day', 'detail', 'do', 'dont', 'drug', 'entry', 'find', 'for', 'give', 'good', 'goodbye', 'have', 'hello', 'help', 'helpful', 'helping', 'hey', 'hi', 'history', 'hola', 'hospital', 'how', 'i', 'id', 'is', 'later', 'list', 'load', 'locate', 'log', 'looking', 'lookup', 'management', 'me', 'module', 'nearby', 'next', 'nice', 'of', 'offered', 'open', 'patient', 'pharmacy', 'pressure', 'provide', 'reaction', 'related', 'result', 'search', 'searching', 'see', 'show', 'suitable', 'support', 'task', 'thank', 'thanks', 'that', 'there', 'till', 'time', 'to', 'transfer', 'up', 'want', 'what', 'which', 'with', 'you']\n"
    }
   ],
   "source": [
    "# Lemmaztize and lower each word and remove duplicates\n",
    "words = [lemmatizer.lemmatize(w.lower()) for w in words if w not in ignore]\n",
    "words = sorted(list(set(words)))\n",
    "\n",
    "# Sort classes\n",
    "classes = sorted(list(set(classes)))\n",
    "\n",
    "# Documents = combination between patterns and intents\n",
    "print (len(documents), \"documents\")\n",
    "\n",
    "# Classes = intents\n",
    "print (len(classes), \"classes\", classes)\n",
    "\n",
    "# Words = all words, vocabulary\n",
    "print (len(words), \"unique lemmatized words\", words)\n",
    "pickle.dump(words,open('words.pkl','wb'))\n",
    "pickle.dump(classes,open('classes.pkl','wb'))"
   ]
  },
  {
   "cell_type": "code",
   "execution_count": 9,
   "metadata": {
    "tags": []
   },
   "outputs": [
    {
     "output_type": "stream",
     "name": "stdout",
     "text": "Training data is created\n"
    }
   ],
   "source": [
    "# Create the training data\n",
    "training = []\n",
    "\n",
    "# Create empty array for the output\n",
    "output_empty = [0] * len(classes)\n",
    "\n",
    "# Training set, bag of words for every sentence\n",
    "for doc in documents:\n",
    "\n",
    "    # Initializing bag of words\n",
    "    bag = []\n",
    "\n",
    "    # List of tokenized words for the pattern\n",
    "    word_patterns = doc[0]\n",
    "\n",
    "    # Lemmatize each word - create base word, in attempt to represent related words\n",
    "    word_patterns = [lemmatizer.lemmatize(word.lower()) for word in word_patterns]\n",
    "\n",
    "    # Create the bag of words array with 1, if word is found in current pattern\n",
    "    for word in words:\n",
    "        bag.append(1) if word in word_patterns else bag.append(0)   \n",
    "\n",
    "    # Output is a '0' for each tag and '1' for current tag (for each pattern)\n",
    "    output_row = list(output_empty)\n",
    "    output_row[classes.index(doc[1])] = 1\n",
    "    training.append([bag, output_row])\n",
    "\n",
    "# Shuffle the features and make numpy array\n",
    "random.shuffle(training)\n",
    "training = np.array(training)\n",
    "\n",
    "# Create training and testing lists. X - patterns, Y - intents\n",
    "train_x = list(training[:,0])\n",
    "train_y = list(training[:,1])\n",
    "\n",
    "print(\"Training data is created\")"
   ]
  },
  {
   "cell_type": "code",
   "execution_count": 10,
   "metadata": {
    "tags": [
     "outputPrepend"
    ]
   },
   "outputs": [
    {
     "output_type": "stream",
     "name": "stdout",
     "text": " 1.6376 - accuracy: 0.5532\nEpoch 7/200\n10/10 [==============================] - 0s 700us/step - loss: 1.4401 - accuracy: 0.5745\nEpoch 8/200\n10/10 [==============================] - 0s 800us/step - loss: 1.4499 - accuracy: 0.5319\nEpoch 9/200\n10/10 [==============================] - 0s 800us/step - loss: 1.2950 - accuracy: 0.5957\nEpoch 10/200\n10/10 [==============================] - 0s 800us/step - loss: 1.3130 - accuracy: 0.6383\nEpoch 11/200\n10/10 [==============================] - 0s 800us/step - loss: 1.0381 - accuracy: 0.7447\nEpoch 12/200\n10/10 [==============================] - 0s 700us/step - loss: 1.0141 - accuracy: 0.6809\nEpoch 13/200\n10/10 [==============================] - 0s 900us/step - loss: 0.8927 - accuracy: 0.7660\nEpoch 14/200\n10/10 [==============================] - 0s 800us/step - loss: 1.0490 - accuracy: 0.6170\nEpoch 15/200\n10/10 [==============================] - 0s 700us/step - loss: 0.8686 - accuracy: 0.8511\nEpoch 16/200\n10/10 [==============================] - 0s 900us/step - loss: 0.6900 - accuracy: 0.8298\nEpoch 17/200\n10/10 [==============================] - 0s 700us/step - loss: 0.6348 - accuracy: 0.8723\nEpoch 18/200\n10/10 [==============================] - 0s 700us/step - loss: 0.7119 - accuracy: 0.7660\nEpoch 19/200\n10/10 [==============================] - 0s 700us/step - loss: 0.5851 - accuracy: 0.8723\nEpoch 20/200\n10/10 [==============================] - 0s 800us/step - loss: 0.5737 - accuracy: 0.8723\nEpoch 21/200\n10/10 [==============================] - 0s 800us/step - loss: 0.4590 - accuracy: 0.8298\nEpoch 22/200\n10/10 [==============================] - 0s 800us/step - loss: 0.4417 - accuracy: 0.8723\nEpoch 23/200\n10/10 [==============================] - 0s 800us/step - loss: 0.4516 - accuracy: 0.8723\nEpoch 24/200\n10/10 [==============================] - 0s 800us/step - loss: 0.4226 - accuracy: 0.8936\nEpoch 25/200\n10/10 [==============================] - 0s 800us/step - loss: 0.2599 - accuracy: 1.0000\nEpoch 26/200\n10/10 [==============================] - 0s 800us/step - loss: 0.2727 - accuracy: 0.9574\nEpoch 27/200\n10/10 [==============================] - 0s 900us/step - loss: 0.3149 - accuracy: 0.9362\nEpoch 28/200\n10/10 [==============================] - 0s 900us/step - loss: 0.3503 - accuracy: 0.8723\nEpoch 29/200\n10/10 [==============================] - 0s 900us/step - loss: 0.2306 - accuracy: 0.9149\nEpoch 30/200\n10/10 [==============================] - 0s 800us/step - loss: 0.3355 - accuracy: 0.8723\nEpoch 31/200\n10/10 [==============================] - 0s 900us/step - loss: 0.2087 - accuracy: 0.9787\nEpoch 32/200\n10/10 [==============================] - 0s 800us/step - loss: 0.2733 - accuracy: 0.9149\nEpoch 33/200\n10/10 [==============================] - 0s 800us/step - loss: 0.2584 - accuracy: 0.9149\nEpoch 34/200\n10/10 [==============================] - 0s 800us/step - loss: 0.2225 - accuracy: 0.9149\nEpoch 35/200\n10/10 [==============================] - 0s 800us/step - loss: 0.1600 - accuracy: 0.9574\nEpoch 36/200\n10/10 [==============================] - 0s 800us/step - loss: 0.1457 - accuracy: 0.9787\nEpoch 37/200\n10/10 [==============================] - 0s 800us/step - loss: 0.1980 - accuracy: 0.9574\nEpoch 38/200\n10/10 [==============================] - 0s 700us/step - loss: 0.1676 - accuracy: 0.9787\nEpoch 39/200\n10/10 [==============================] - 0s 900us/step - loss: 0.2032 - accuracy: 0.9787\nEpoch 40/200\n10/10 [==============================] - 0s 900us/step - loss: 0.1979 - accuracy: 0.9362\nEpoch 41/200\n10/10 [==============================] - 0s 900us/step - loss: 0.1020 - accuracy: 1.0000\nEpoch 42/200\n10/10 [==============================] - 0s 800us/step - loss: 0.2013 - accuracy: 0.9149\nEpoch 43/200\n10/10 [==============================] - 0s 700us/step - loss: 0.1194 - accuracy: 0.9787\nEpoch 44/200\n10/10 [==============================] - 0s 800us/step - loss: 0.2278 - accuracy: 0.9362\nEpoch 45/200\n10/10 [==============================] - 0s 700us/step - loss: 0.1549 - accuracy: 0.9787\nEpoch 46/200\n10/10 [==============================] - 0s 900us/step - loss: 0.1200 - accuracy: 1.0000\nEpoch 47/200\n10/10 [==============================] - 0s 800us/step - loss: 0.1248 - accuracy: 0.9574\nEpoch 48/200\n10/10 [==============================] - 0s 800us/step - loss: 0.1602 - accuracy: 0.9574\nEpoch 49/200\n10/10 [==============================] - 0s 800us/step - loss: 0.1195 - accuracy: 0.9362\nEpoch 50/200\n10/10 [==============================] - 0s 800us/step - loss: 0.1055 - accuracy: 0.9574\nEpoch 51/200\n10/10 [==============================] - 0s 800us/step - loss: 0.1995 - accuracy: 0.9362\nEpoch 52/200\n10/10 [==============================] - 0s 800us/step - loss: 0.2459 - accuracy: 0.9149\nEpoch 53/200\n10/10 [==============================] - 0s 800us/step - loss: 0.1052 - accuracy: 1.0000\nEpoch 54/200\n10/10 [==============================] - 0s 900us/step - loss: 0.1056 - accuracy: 0.9787\nEpoch 55/200\n10/10 [==============================] - 0s 800us/step - loss: 0.1208 - accuracy: 0.9574\nEpoch 56/200\n10/10 [==============================] - 0s 700us/step - loss: 0.1068 - accuracy: 0.9574\nEpoch 57/200\n10/10 [==============================] - 0s 800us/step - loss: 0.0738 - accuracy: 1.0000\nEpoch 58/200\n10/10 [==============================] - 0s 800us/step - loss: 0.1233 - accuracy: 0.9574\nEpoch 59/200\n10/10 [==============================] - 0s 771us/step - loss: 0.0897 - accuracy: 0.9787\nEpoch 60/200\n10/10 [==============================] - 0s 800us/step - loss: 0.0620 - accuracy: 1.0000\nEpoch 61/200\n10/10 [==============================] - 0s 800us/step - loss: 0.1241 - accuracy: 0.9574\nEpoch 62/200\n10/10 [==============================] - 0s 840us/step - loss: 0.0781 - accuracy: 0.9574\nEpoch 63/200\n10/10 [==============================] - 0s 800us/step - loss: 0.1112 - accuracy: 0.9574\nEpoch 64/200\n10/10 [==============================] - 0s 800us/step - loss: 0.1126 - accuracy: 0.9787\nEpoch 65/200\n10/10 [==============================] - 0s 900us/step - loss: 0.1490 - accuracy: 0.9362\nEpoch 66/200\n10/10 [==============================] - 0s 900us/step - loss: 0.2442 - accuracy: 0.8723\nEpoch 67/200\n10/10 [==============================] - 0s 800us/step - loss: 0.1666 - accuracy: 0.9362\nEpoch 68/200\n10/10 [==============================] - 0s 900us/step - loss: 0.1595 - accuracy: 0.9362\nEpoch 69/200\n10/10 [==============================] - 0s 800us/step - loss: 0.0643 - accuracy: 0.9787\nEpoch 70/200\n 1/10 [==>...........................] - ETA: 0s - loss: 0.0741 - accuracy: 1.0010/10 [==============================] - 0s 800us/step - loss: 0.0627 - accuracy: 1.0000\nEpoch 71/200\n10/10 [==============================] - 0s 700us/step - loss: 0.0615 - accuracy: 1.0000\nEpoch 72/200\n10/10 [==============================] - 0s 800us/step - loss: 0.0595 - accuracy: 1.0000\nEpoch 73/200\n10/10 [==============================] - 0s 700us/step - loss: 0.1181 - accuracy: 0.9362\nEpoch 74/200\n10/10 [==============================] - 0s 800us/step - loss: 0.1395 - accuracy: 0.9362\nEpoch 75/200\n10/10 [==============================] - 0s 800us/step - loss: 0.0335 - accuracy: 1.0000\nEpoch 76/200\n10/10 [==============================] - 0s 1ms/step - loss: 0.1531 - accuracy: 0.9574\nEpoch 77/200\n10/10 [==============================] - 0s 800us/step - loss: 0.0486 - accuracy: 1.0000\nEpoch 78/200\n10/10 [==============================] - 0s 800us/step - loss: 0.0149 - accuracy: 1.0000\nEpoch 79/200\n10/10 [==============================] - 0s 800us/step - loss: 0.0413 - accuracy: 1.0000\nEpoch 80/200\n10/10 [==============================] - 0s 800us/step - loss: 0.1124 - accuracy: 0.9574\nEpoch 81/200\n10/10 [==============================] - 0s 700us/step - loss: 0.0491 - accuracy: 1.0000\nEpoch 82/200\n10/10 [==============================] - 0s 900us/step - loss: 0.0488 - accuracy: 1.0000\nEpoch 83/200\n10/10 [==============================] - 0s 900us/step - loss: 0.0500 - accuracy: 0.9787\nEpoch 84/200\n10/10 [==============================] - 0s 900us/step - loss: 0.0779 - accuracy: 0.9787\nEpoch 85/200\n10/10 [==============================] - 0s 700us/step - loss: 0.0964 - accuracy: 0.9787\nEpoch 86/200\n10/10 [==============================] - 0s 800us/step - loss: 0.0315 - accuracy: 1.0000\nEpoch 87/200\n10/10 [==============================] - 0s 800us/step - loss: 0.0202 - accuracy: 1.0000\nEpoch 88/200\n10/10 [==============================] - 0s 800us/step - loss: 0.0290 - accuracy: 1.0000\nEpoch 89/200\n10/10 [==============================] - 0s 700us/step - loss: 0.0431 - accuracy: 1.0000\nEpoch 90/200\n10/10 [==============================] - 0s 700us/step - loss: 0.0283 - accuracy: 1.0000\nEpoch 91/200\n10/10 [==============================] - 0s 900us/step - loss: 0.0519 - accuracy: 0.9787\nEpoch 92/200\n10/10 [==============================] - 0s 900us/step - loss: 0.0305 - accuracy: 1.0000\nEpoch 93/200\n10/10 [==============================] - 0s 700us/step - loss: 0.0555 - accuracy: 0.9787\nEpoch 94/200\n10/10 [==============================] - 0s 800us/step - loss: 0.0609 - accuracy: 0.9787\nEpoch 95/200\n10/10 [==============================] - 0s 800us/step - loss: 0.0676 - accuracy: 1.0000\nEpoch 96/200\n10/10 [==============================] - 0s 700us/step - loss: 0.0551 - accuracy: 1.0000\nEpoch 97/200\n10/10 [==============================] - 0s 900us/step - loss: 0.1092 - accuracy: 0.9787\nEpoch 98/200\n10/10 [==============================] - 0s 800us/step - loss: 0.0293 - accuracy: 1.0000\nEpoch 99/200\n10/10 [==============================] - 0s 800us/step - loss: 0.0160 - accuracy: 1.0000\nEpoch 100/200\n10/10 [==============================] - 0s 800us/step - loss: 0.0333 - accuracy: 1.0000\nEpoch 101/200\n10/10 [==============================] - 0s 700us/step - loss: 0.0171 - accuracy: 1.0000\nEpoch 102/200\n10/10 [==============================] - 0s 800us/step - loss: 0.0161 - accuracy: 1.0000\nEpoch 103/200\n10/10 [==============================] - 0s 700us/step - loss: 0.0408 - accuracy: 1.0000\nEpoch 104/200\n10/10 [==============================] - 0s 700us/step - loss: 0.0510 - accuracy: 0.9787\nEpoch 105/200\n10/10 [==============================] - 0s 800us/step - loss: 0.0329 - accuracy: 1.0000\nEpoch 106/200\n10/10 [==============================] - 0s 900us/step - loss: 0.0158 - accuracy: 1.0000\nEpoch 107/200\n10/10 [==============================] - 0s 800us/step - loss: 0.0264 - accuracy: 1.0000\nEpoch 108/200\n10/10 [==============================] - 0s 800us/step - loss: 0.0578 - accuracy: 1.0000\nEpoch 109/200\n10/10 [==============================] - 0s 900us/step - loss: 0.0474 - accuracy: 1.0000\nEpoch 110/200\n10/10 [==============================] - 0s 700us/step - loss: 0.0653 - accuracy: 0.9787\nEpoch 111/200\n10/10 [==============================] - 0s 1ms/step - loss: 0.0078 - accuracy: 1.0000\nEpoch 112/200\n10/10 [==============================] - 0s 1ms/step - loss: 0.0244 - accuracy: 1.0000\nEpoch 113/200\n10/10 [==============================] - 0s 700us/step - loss: 0.0403 - accuracy: 0.9787\nEpoch 114/200\n10/10 [==============================] - 0s 900us/step - loss: 0.0614 - accuracy: 0.9787\nEpoch 115/200\n10/10 [==============================] - 0s 800us/step - loss: 0.0326 - accuracy: 1.0000\nEpoch 116/200\n10/10 [==============================] - 0s 700us/step - loss: 0.0597 - accuracy: 0.9787\nEpoch 117/200\n10/10 [==============================] - 0s 800us/step - loss: 0.0154 - accuracy: 1.0000\nEpoch 118/200\n10/10 [==============================] - 0s 900us/step - loss: 0.0239 - accuracy: 1.0000\nEpoch 119/200\n10/10 [==============================] - 0s 900us/step - loss: 0.0423 - accuracy: 1.0000\nEpoch 120/200\n10/10 [==============================] - 0s 700us/step - loss: 0.0215 - accuracy: 1.0000\nEpoch 121/200\n10/10 [==============================] - 0s 900us/step - loss: 0.0903 - accuracy: 0.9574\nEpoch 122/200\n10/10 [==============================] - 0s 800us/step - loss: 0.0545 - accuracy: 0.9574\nEpoch 123/200\n10/10 [==============================] - 0s 700us/step - loss: 0.0256 - accuracy: 1.0000\nEpoch 124/200\n10/10 [==============================] - 0s 951us/step - loss: 0.0192 - accuracy: 1.0000\nEpoch 125/200\n10/10 [==============================] - 0s 937us/step - loss: 0.0183 - accuracy: 1.0000\nEpoch 126/200\n10/10 [==============================] - 0s 700us/step - loss: 0.0576 - accuracy: 0.9787\nEpoch 127/200\n10/10 [==============================] - 0s 700us/step - loss: 0.0226 - accuracy: 1.0000\nEpoch 128/200\n10/10 [==============================] - 0s 1ms/step - loss: 0.0305 - accuracy: 1.0000\nEpoch 129/200\n10/10 [==============================] - 0s 900us/step - loss: 0.0073 - accuracy: 1.0000\nEpoch 130/200\n10/10 [==============================] - 0s 800us/step - loss: 0.0197 - accuracy: 1.0000\nEpoch 131/200\n10/10 [==============================] - 0s 700us/step - loss: 0.0579 - accuracy: 0.9787\nEpoch 132/200\n10/10 [==============================] - 0s 800us/step - loss: 0.0309 - accuracy: 1.0000\nEpoch 133/200\n10/10 [==============================] - 0s 900us/step - loss: 0.0244 - accuracy: 0.9787\nEpoch 134/200\n10/10 [==============================] - 0s 900us/step - loss: 0.0296 - accuracy: 0.9787\nEpoch 135/200\n10/10 [==============================] - 0s 700us/step - loss: 0.0205 - accuracy: 1.0000\nEpoch 136/200\n10/10 [==============================] - 0s 800us/step - loss: 0.0661 - accuracy: 0.9787\nEpoch 137/200\n10/10 [==============================] - 0s 700us/step - loss: 0.0352 - accuracy: 0.9787\nEpoch 138/200\n10/10 [==============================] - 0s 700us/step - loss: 0.0086 - accuracy: 1.0000\nEpoch 139/200\n10/10 [==============================] - 0s 800us/step - loss: 0.0243 - accuracy: 1.0000\nEpoch 140/200\n10/10 [==============================] - 0s 900us/step - loss: 0.0238 - accuracy: 1.0000\nEpoch 141/200\n10/10 [==============================] - 0s 900us/step - loss: 0.0148 - accuracy: 1.0000\nEpoch 142/200\n10/10 [==============================] - 0s 800us/step - loss: 0.0283 - accuracy: 1.0000\nEpoch 143/200\n10/10 [==============================] - 0s 800us/step - loss: 0.0202 - accuracy: 1.0000\nEpoch 144/200\n10/10 [==============================] - 0s 900us/step - loss: 0.0084 - accuracy: 1.0000\nEpoch 145/200\n10/10 [==============================] - 0s 800us/step - loss: 0.0379 - accuracy: 1.0000\nEpoch 146/200\n10/10 [==============================] - 0s 700us/step - loss: 0.0105 - accuracy: 1.0000\nEpoch 147/200\n10/10 [==============================] - 0s 883us/step - loss: 0.0224 - accuracy: 1.0000\nEpoch 148/200\n10/10 [==============================] - 0s 700us/step - loss: 0.0084 - accuracy: 1.0000\nEpoch 149/200\n10/10 [==============================] - 0s 800us/step - loss: 0.0160 - accuracy: 1.0000\nEpoch 150/200\n10/10 [==============================] - 0s 800us/step - loss: 0.0219 - accuracy: 1.0000\nEpoch 151/200\n10/10 [==============================] - 0s 700us/step - loss: 0.0381 - accuracy: 1.0000\nEpoch 152/200\n10/10 [==============================] - 0s 900us/step - loss: 0.0189 - accuracy: 1.0000\nEpoch 153/200\n10/10 [==============================] - 0s 900us/step - loss: 0.0170 - accuracy: 1.0000\nEpoch 154/200\n10/10 [==============================] - 0s 751us/step - loss: 0.0027 - accuracy: 1.0000\nEpoch 155/200\n10/10 [==============================] - 0s 900us/step - loss: 0.0408 - accuracy: 0.9787\nEpoch 156/200\n10/10 [==============================] - 0s 800us/step - loss: 0.0433 - accuracy: 0.9787\nEpoch 157/200\n10/10 [==============================] - 0s 700us/step - loss: 0.0199 - accuracy: 1.0000\nEpoch 158/200\n10/10 [==============================] - 0s 800us/step - loss: 0.0122 - accuracy: 1.0000\nEpoch 159/200\n10/10 [==============================] - 0s 700us/step - loss: 0.0252 - accuracy: 1.0000\nEpoch 160/200\n10/10 [==============================] - 0s 700us/step - loss: 0.0140 - accuracy: 1.0000\nEpoch 161/200\n10/10 [==============================] - 0s 700us/step - loss: 0.1102 - accuracy: 0.9787\nEpoch 162/200\n10/10 [==============================] - 0s 800us/step - loss: 0.0069 - accuracy: 1.0000\nEpoch 163/200\n10/10 [==============================] - 0s 900us/step - loss: 0.0120 - accuracy: 1.0000\nEpoch 164/200\n10/10 [==============================] - 0s 900us/step - loss: 0.0254 - accuracy: 1.0000\nEpoch 165/200\n10/10 [==============================] - 0s 700us/step - loss: 0.0181 - accuracy: 1.0000\nEpoch 166/200\n10/10 [==============================] - 0s 800us/step - loss: 0.0069 - accuracy: 1.0000\nEpoch 167/200\n10/10 [==============================] - 0s 700us/step - loss: 0.0367 - accuracy: 1.0000\nEpoch 168/200\n10/10 [==============================] - 0s 700us/step - loss: 0.0111 - accuracy: 1.0000\nEpoch 169/200\n10/10 [==============================] - 0s 900us/step - loss: 0.0488 - accuracy: 0.9787\nEpoch 170/200\n10/10 [==============================] - 0s 600us/step - loss: 0.0248 - accuracy: 1.0000\nEpoch 171/200\n10/10 [==============================] - 0s 800us/step - loss: 0.0615 - accuracy: 0.9787\nEpoch 172/200\n10/10 [==============================] - 0s 700us/step - loss: 0.0070 - accuracy: 1.0000\nEpoch 173/200\n10/10 [==============================] - 0s 737us/step - loss: 0.0207 - accuracy: 0.9787\nEpoch 174/200\n10/10 [==============================] - 0s 900us/step - loss: 0.0232 - accuracy: 1.0000\nEpoch 175/200\n10/10 [==============================] - 0s 800us/step - loss: 0.0045 - accuracy: 1.0000\nEpoch 176/200\n10/10 [==============================] - 0s 800us/step - loss: 0.0035 - accuracy: 1.0000\nEpoch 177/200\n10/10 [==============================] - 0s 800us/step - loss: 0.0098 - accuracy: 1.0000\nEpoch 178/200\n10/10 [==============================] - 0s 800us/step - loss: 0.0628 - accuracy: 0.9787\nEpoch 179/200\n10/10 [==============================] - 0s 700us/step - loss: 0.0640 - accuracy: 0.9787\nEpoch 180/200\n10/10 [==============================] - 0s 700us/step - loss: 0.0345 - accuracy: 1.0000\nEpoch 181/200\n10/10 [==============================] - 0s 700us/step - loss: 0.0181 - accuracy: 1.0000\nEpoch 182/200\n10/10 [==============================] - 0s 1ms/step - loss: 0.0214 - accuracy: 1.0000\nEpoch 183/200\n10/10 [==============================] - 0s 800us/step - loss: 0.0028 - accuracy: 1.0000\nEpoch 184/200\n10/10 [==============================] - 0s 600us/step - loss: 0.0104 - accuracy: 1.0000\nEpoch 185/200\n10/10 [==============================] - 0s 800us/step - loss: 0.0125 - accuracy: 1.0000\nEpoch 186/200\n10/10 [==============================] - 0s 800us/step - loss: 0.0236 - accuracy: 1.0000\nEpoch 187/200\n10/10 [==============================] - 0s 800us/step - loss: 0.0188 - accuracy: 1.0000\nEpoch 188/200\n10/10 [==============================] - 0s 900us/step - loss: 0.0123 - accuracy: 1.0000\nEpoch 189/200\n10/10 [==============================] - 0s 800us/step - loss: 0.0169 - accuracy: 1.0000\nEpoch 190/200\n10/10 [==============================] - 0s 700us/step - loss: 0.0047 - accuracy: 1.0000\nEpoch 191/200\n10/10 [==============================] - 0s 800us/step - loss: 0.0104 - accuracy: 1.0000\nEpoch 192/200\n10/10 [==============================] - 0s 700us/step - loss: 0.0020 - accuracy: 1.0000\nEpoch 193/200\n10/10 [==============================] - 0s 700us/step - loss: 0.1160 - accuracy: 0.9787\nEpoch 194/200\n10/10 [==============================] - 0s 800us/step - loss: 0.0110 - accuracy: 1.0000\nEpoch 195/200\n10/10 [==============================] - 0s 600us/step - loss: 0.0124 - accuracy: 1.0000\nEpoch 196/200\n10/10 [==============================] - 0s 800us/step - loss: 0.0020 - accuracy: 1.0000\nEpoch 197/200\n10/10 [==============================] - 0s 700us/step - loss: 0.0223 - accuracy: 1.0000\nEpoch 198/200\n10/10 [==============================] - 0s 690us/step - loss: 0.0206 - accuracy: 1.0000\nEpoch 199/200\n10/10 [==============================] - 0s 900us/step - loss: 0.0099 - accuracy: 1.0000\nEpoch 200/200\n10/10 [==============================] - 0s 800us/step - loss: 0.0114 - accuracy: 1.0000\nmodel is created\n"
    }
   ],
   "source": [
    "# Deep neural networds model\n",
    "model = Sequential()\n",
    "model.add(Dense(128, input_shape=(len(train_x[0]),), activation='relu'))\n",
    "model.add(Dropout(0.5))\n",
    "model.add(Dense(64, activation='relu'))\n",
    "model.add(Dropout(0.5))\n",
    "model.add(Dense(len(train_y[0]), activation='softmax'))\n",
    "\n",
    "# Compiling model. SGD with Nesterov accelerated gradient gives good results for this model\n",
    "sgd = SGD(lr=0.01, decay=1e-6, momentum=0.9, nesterov=True)\n",
    "model.compile(loss='categorical_crossentropy', optimizer=sgd, metrics=['accuracy'])\n",
    "\n",
    "# Training and saving the model \n",
    "hist = model.fit(np.array(train_x), np.array(train_y), epochs=200, batch_size=5, verbose=1)\n",
    "model.save('chatbot_model.h5', hist)\n",
    "\n",
    "print(\"model is created\")"
   ]
  },
  {
   "cell_type": "code",
   "execution_count": null,
   "metadata": {},
   "outputs": [],
   "source": []
  }
 ],
 "metadata": {
  "language_info": {
   "codemirror_mode": {
    "name": "ipython",
    "version": 3
   },
   "file_extension": ".py",
   "mimetype": "text/x-python",
   "name": "python",
   "nbconvert_exporter": "python",
   "pygments_lexer": "ipython3",
   "version": "3.7.4-final"
  },
  "orig_nbformat": 2,
  "kernelspec": {
   "name": "chatbot",
   "display_name": "Python (chatbot)"
  }
 },
 "nbformat": 4,
 "nbformat_minor": 2
}